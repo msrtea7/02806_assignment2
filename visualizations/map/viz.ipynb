{
 "cells": [
  {
   "cell_type": "code",
   "execution_count": 9,
   "metadata": {},
   "outputs": [
    {
     "name": "stdout",
     "output_type": "stream",
     "text": [
      "Index(['Incident Category', 'Incident Date', 'Incident Time',\n",
      "       'Police District', 'Longitude', 'Latitude', 'Location', 'Source',\n",
      "       'Year'],\n",
      "      dtype='object')\n"
     ]
    },
    {
     "data": {
      "text/html": [
       "<div>\n",
       "<style scoped>\n",
       "    .dataframe tbody tr th:only-of-type {\n",
       "        vertical-align: middle;\n",
       "    }\n",
       "\n",
       "    .dataframe tbody tr th {\n",
       "        vertical-align: top;\n",
       "    }\n",
       "\n",
       "    .dataframe thead th {\n",
       "        text-align: right;\n",
       "    }\n",
       "</style>\n",
       "<table border=\"1\" class=\"dataframe\">\n",
       "  <thead>\n",
       "    <tr style=\"text-align: right;\">\n",
       "      <th></th>\n",
       "      <th>Incident Category</th>\n",
       "      <th>Incident Date</th>\n",
       "      <th>Incident Time</th>\n",
       "      <th>Police District</th>\n",
       "      <th>Longitude</th>\n",
       "      <th>Latitude</th>\n",
       "      <th>Location</th>\n",
       "      <th>Source</th>\n",
       "      <th>Year</th>\n",
       "    </tr>\n",
       "  </thead>\n",
       "  <tbody>\n",
       "    <tr>\n",
       "      <th>0</th>\n",
       "      <td>disorderly conduct</td>\n",
       "      <td>2003-01-01</td>\n",
       "      <td>03:15</td>\n",
       "      <td>PARK</td>\n",
       "      <td>-122.434390</td>\n",
       "      <td>37.765848</td>\n",
       "      <td>2200 Block of 15TH ST</td>\n",
       "      <td>03-17</td>\n",
       "      <td>2003</td>\n",
       "    </tr>\n",
       "    <tr>\n",
       "      <th>1</th>\n",
       "      <td>non-criminal</td>\n",
       "      <td>2003-01-01</td>\n",
       "      <td>13:00</td>\n",
       "      <td>NORTHERN</td>\n",
       "      <td>-122.418468</td>\n",
       "      <td>37.787965</td>\n",
       "      <td>SUTTER ST / LARKIN ST</td>\n",
       "      <td>03-17</td>\n",
       "      <td>2003</td>\n",
       "    </tr>\n",
       "    <tr>\n",
       "      <th>2</th>\n",
       "      <td>forgery and counterfeiting</td>\n",
       "      <td>2003-01-01</td>\n",
       "      <td>08:00</td>\n",
       "      <td>TARAVAL</td>\n",
       "      <td>-122.465241</td>\n",
       "      <td>37.715220</td>\n",
       "      <td>200 Block of VICTORIA ST</td>\n",
       "      <td>03-17</td>\n",
       "      <td>2003</td>\n",
       "    </tr>\n",
       "    <tr>\n",
       "      <th>3</th>\n",
       "      <td>other offenses</td>\n",
       "      <td>2003-01-01</td>\n",
       "      <td>22:24</td>\n",
       "      <td>MISSION</td>\n",
       "      <td>-122.417028</td>\n",
       "      <td>37.760366</td>\n",
       "      <td>19TH ST / SOUTH VAN NESS AV</td>\n",
       "      <td>03-17</td>\n",
       "      <td>2003</td>\n",
       "    </tr>\n",
       "  </tbody>\n",
       "</table>\n",
       "</div>"
      ],
      "text/plain": [
       "            Incident Category Incident Date Incident Time Police District  \\\n",
       "0          disorderly conduct    2003-01-01         03:15            PARK   \n",
       "1                non-criminal    2003-01-01         13:00        NORTHERN   \n",
       "2  forgery and counterfeiting    2003-01-01         08:00         TARAVAL   \n",
       "3              other offenses    2003-01-01         22:24         MISSION   \n",
       "\n",
       "    Longitude   Latitude                     Location Source  Year  \n",
       "0 -122.434390  37.765848        2200 Block of 15TH ST  03-17  2003  \n",
       "1 -122.418468  37.787965        SUTTER ST / LARKIN ST  03-17  2003  \n",
       "2 -122.465241  37.715220     200 Block of VICTORIA ST  03-17  2003  \n",
       "3 -122.417028  37.760366  19TH ST / SOUTH VAN NESS AV  03-17  2003  "
      ]
     },
     "execution_count": 9,
     "metadata": {},
     "output_type": "execute_result"
    }
   ],
   "source": [
    "# Task 1 and General\n",
    "import pandas as pd\n",
    "import matplotlib.pyplot as plt\n",
    "import numpy as np\n",
    "import calplot\n",
    "\n",
    "# Hyper parameters\n",
    "## Define directories\n",
    "SAVE_DIR = \"./pics/\"\n",
    "DATA_DIR = \"../../data_sf/\"\n",
    "CSV_NAME = 'combined_crime_data.csv'\n",
    "\n",
    "# read it once only\n",
    "df = pd.read_csv(DATA_DIR + CSV_NAME)\n",
    "\n",
    "print(df.columns)\n",
    "df.head(4)"
   ]
  },
  {
   "cell_type": "code",
   "execution_count": 2,
   "metadata": {},
   "outputs": [
    {
     "name": "stdout",
     "output_type": "stream",
     "text": [
      "原始数据行数: 466\n",
      "过滤后数据行数: 1\n",
      "    Status                              Point\n",
      "117   Open  POINT (-122.43045807 37.75830841)\n"
     ]
    }
   ],
   "source": [
    "filtered_df = df[['Status', 'Point']]\n",
    "\n",
    "# 过滤掉 Status 为 \"Closed\" 的行\n",
    "filtered_df = filtered_df[filtered_df['Status'] != 'Closed']\n",
    "\n",
    "# 检查结果\n",
    "print(f\"原始数据行数: {len(df)}\")\n",
    "print(f\"过滤后数据行数: {len(filtered_df)}\")\n",
    "print(filtered_df.head())"
   ]
  },
  {
   "cell_type": "code",
   "execution_count": 3,
   "metadata": {},
   "outputs": [
    {
     "data": {
      "text/plain": [
       "466"
      ]
     },
     "execution_count": 3,
     "metadata": {},
     "output_type": "execute_result"
    }
   ],
   "source": [
    "len(df)"
   ]
  },
  {
   "cell_type": "code",
   "execution_count": null,
   "metadata": {},
   "outputs": [
    {
     "data": {
      "text/plain": [
       "Label (Grouping)                                                                                                       Occupied housing units\n",
       "California!!Estimate                                                                                                               13,434,847\n",
       "California!!Margin of Error                                                                                                           ±19,805\n",
       "California!!Percent                                                                                                                13,434,847\n",
       "California!!Percent Margin of Error                                                                                                       (X)\n",
       "Bayview CCD, San Francisco County, California!!Estimate                                                                                12,305\n",
       "Bayview CCD, San Francisco County, California!!Margin of Error                                                                           ±498\n",
       "Bayview CCD, San Francisco County, California!!Percent                                                                                 12,305\n",
       "Bayview CCD, San Francisco County, California!!Percent Margin of Error                                                                    (X)\n",
       "Downtown-Northeast Neighborhoods-Treasure Island CCD, San Francisco County, California!!Estimate                                       65,340\n",
       "Downtown-Northeast Neighborhoods-Treasure Island CCD, San Francisco County, California!!Margin of Error                                ±1,531\n",
       "Downtown-Northeast Neighborhoods-Treasure Island CCD, San Francisco County, California!!Percent                                        65,340\n",
       "Downtown-Northeast Neighborhoods-Treasure Island CCD, San Francisco County, California!!Percent Margin of Error                           (X)\n",
       "Merced-McLaren CCD, San Francisco County, California!!Estimate                                                                         50,400\n",
       "Merced-McLaren CCD, San Francisco County, California!!Margin of Error                                                                  ±1,284\n",
       "Merced-McLaren CCD, San Francisco County, California!!Percent                                                                          50,400\n",
       "Merced-McLaren CCD, San Francisco County, California!!Percent Margin of Error                                                             (X)\n",
       "Mission-Bernal CCD, San Francisco County, California!!Estimate                                                                         32,660\n",
       "Mission-Bernal CCD, San Francisco County, California!!Margin of Error                                                                    ±970\n",
       "Mission-Bernal CCD, San Francisco County, California!!Percent                                                                          32,660\n",
       "Mission-Bernal CCD, San Francisco County, California!!Percent Margin of Error                                                             (X)\n",
       "Richmond-Presidio-Marina CCD, San Francisco County, California!!Estimate                                                               58,285\n",
       "Richmond-Presidio-Marina CCD, San Francisco County, California!!Margin of Error                                                        ±1,284\n",
       "Richmond-Presidio-Marina CCD, San Francisco County, California!!Percent                                                                58,285\n",
       "Richmond-Presidio-Marina CCD, San Francisco County, California!!Percent Margin of Error                                                   (X)\n",
       "SoMa-Potrero-Mission Bay CCD, San Francisco County, California!!Estimate                                                               32,109\n",
       "SoMa-Potrero-Mission Bay CCD, San Francisco County, California!!Margin of Error                                                        ±1,100\n",
       "SoMa-Potrero-Mission Bay CCD, San Francisco County, California!!Percent                                                                32,109\n",
       "SoMa-Potrero-Mission Bay CCD, San Francisco County, California!!Percent Margin of Error                                                   (X)\n",
       "Sunset CCD, San Francisco County, California!!Estimate                                                                                 43,848\n",
       "Sunset CCD, San Francisco County, California!!Margin of Error                                                                          ±1,094\n",
       "Sunset CCD, San Francisco County, California!!Percent                                                                                  43,848\n",
       "Sunset CCD, San Francisco County, California!!Percent Margin of Error                                                                     (X)\n",
       "Western Addition-Buena Vista-Eureka Valley CCD, San Francisco County, California!!Estimate                                             67,703\n",
       "Western Addition-Buena Vista-Eureka Valley CCD, San Francisco County, California!!Margin of Error                                      ±1,304\n",
       "Western Addition-Buena Vista-Eureka Valley CCD, San Francisco County, California!!Percent                                              67,703\n",
       "Western Addition-Buena Vista-Eureka Valley CCD, San Francisco County, California!!Percent Margin of Error                                 (X)\n",
       "Name: 64, dtype: object"
      ]
     },
     "execution_count": 5,
     "metadata": {},
     "output_type": "execute_result"
    }
   ],
   "source": [
    "df = pd.read_csv(DATA_DIR + \"census.csv\")\n",
    "row_66 = df.iloc[64]\n",
    "print(row_66)"
   ]
  },
  {
   "cell_type": "code",
   "execution_count": 7,
   "metadata": {},
   "outputs": [
    {
     "name": "stderr",
     "output_type": "stream",
     "text": [
      "/var/folders/gw/kswg6whx2_11wyngf1r9_xv80000gp/T/ipykernel_2425/3307234653.py:2: FutureWarning: Series.__getitem__ treating keys as positions is deprecated. In a future version, integer keys will always be treated as labels (consistent with DataFrame behavior). To access a value by position, use `ser.iloc[pos]`\n",
      "  row_66[1]\n"
     ]
    },
    {
     "data": {
      "text/plain": [
       "'13,434,847'"
      ]
     },
     "execution_count": 7,
     "metadata": {},
     "output_type": "execute_result"
    }
   ],
   "source": [
    "# all = 13,434,847\n",
    "row_66[1]"
   ]
  },
  {
   "cell_type": "code",
   "execution_count": null,
   "metadata": {},
   "outputs": [],
   "source": []
  }
 ],
 "metadata": {
  "kernelspec": {
   "display_name": "fuck_sns",
   "language": "python",
   "name": "python3"
  },
  "language_info": {
   "codemirror_mode": {
    "name": "ipython",
    "version": 3
   },
   "file_extension": ".py",
   "mimetype": "text/x-python",
   "name": "python",
   "nbconvert_exporter": "python",
   "pygments_lexer": "ipython3",
   "version": "3.11.8"
  }
 },
 "nbformat": 4,
 "nbformat_minor": 2
}
